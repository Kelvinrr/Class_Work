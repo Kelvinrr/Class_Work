{
 "cells": [
  {
   "cell_type": "code",
   "execution_count": 398,
   "metadata": {
    "collapsed": false,
    "deletable": true,
    "editable": true
   },
   "outputs": [
    {
     "data": {
      "text/plain": [
       "['__add__',\n",
       " '__class__',\n",
       " '__contains__',\n",
       " '__delattr__',\n",
       " '__dir__',\n",
       " '__doc__',\n",
       " '__eq__',\n",
       " '__format__',\n",
       " '__ge__',\n",
       " '__getattribute__',\n",
       " '__getitem__',\n",
       " '__getnewargs__',\n",
       " '__gt__',\n",
       " '__hash__',\n",
       " '__init__',\n",
       " '__iter__',\n",
       " '__le__',\n",
       " '__len__',\n",
       " '__lt__',\n",
       " '__module__',\n",
       " '__mul__',\n",
       " '__ne__',\n",
       " '__new__',\n",
       " '__reduce__',\n",
       " '__reduce_ex__',\n",
       " '__repr__',\n",
       " '__rmul__',\n",
       " '__setattr__',\n",
       " '__sizeof__',\n",
       " '__slots__',\n",
       " '__str__',\n",
       " '__subclasshook__',\n",
       " '_asdict',\n",
       " '_fields',\n",
       " '_make',\n",
       " '_replace',\n",
       " '_source',\n",
       " 'count',\n",
       " 'depth',\n",
       " 'index',\n",
       " 'loc',\n",
       " 'path',\n",
       " 'predicted',\n",
       " 'score',\n",
       " 'word']"
      ]
     },
     "execution_count": 398,
     "metadata": {},
     "output_type": "execute_result"
    }
   ],
   "source": [
    "import time\n",
    "import copy\n",
    "import itertools\n",
    "import functools\n",
    "\n",
    "from operator import add\n",
    "import numpy as np\n",
    "import networkx as nx\n",
    "\n",
    "from queue import LifoQueue\n",
    "from queue import PriorityQueue\n",
    "from queue import Queue\n",
    "\n",
    "from collections import namedtuple\n",
    "from copy import deepcopy\n",
    "\n",
    "dir(State)"
   ]
  },
  {
   "cell_type": "code",
   "execution_count": 402,
   "metadata": {
    "collapsed": false,
    "deletable": true,
    "editable": true
   },
   "outputs": [],
   "source": [
    "with open(\"python/scores.txt\", \"r+\") as f:\n",
    "    scores = f.read()\n",
    "\n",
    "score_table = dict()\n",
    "for string in scores.split(\"\\n\"):\n",
    "    vals = string.split(' ')\n",
    "    if len(vals) == 2:\n",
    "        score_table[vals[0]] = int(vals[1])"
   ]
  },
  {
   "cell_type": "code",
   "execution_count": 403,
   "metadata": {
    "collapsed": false,
    "deletable": true,
    "editable": true
   },
   "outputs": [],
   "source": [
    "board = [lines.split() for lines in open('python/threeboard.txt').read().splitlines()]\n",
    "\n",
    "word_set = frozenset([word.upper() for word in open('twl06.txt').read().splitlines()])\n",
    "board_width, board_height = len(board), len(board[0])\n",
    "board_indices = frozenset(itertools.product(range(board_width), range(board_height)))\n",
    "offsets = [(-1, -1), (-1, 0), (-1, 1), (0, -1), (0, 1), (1, -1), (1, 0), (1, 1)]"
   ]
  },
  {
   "cell_type": "code",
   "execution_count": 414,
   "metadata": {
    "collapsed": false,
    "deletable": true,
    "editable": true
   },
   "outputs": [],
   "source": [
    "max_moves = 104\n",
    "searched_node_depth = 0\n",
    "branching_factor = 0\n",
    "score = 0\n",
    "words_found = set()\n",
    "total_moves = 0\n",
    "\n",
    "queue_sizes = []"
   ]
  },
  {
   "cell_type": "code",
   "execution_count": 415,
   "metadata": {
    "collapsed": false,
    "deletable": true,
    "editable": true
   },
   "outputs": [],
   "source": [
    "def word_count(string):\n",
    "    return len([word for word in word_set if word.startswith(string)])\n",
    "\n",
    "def get_score(word):\n",
    "    return sum(score_table[char] for char in word.upper())\n",
    "\n",
    "def find_words(board, dictionary, algorithm='bfs', hn=lambda x: 0):\n",
    "    search = {\n",
    "        'bfs' : Queue,\n",
    "        'dfs' : LifoQueue,\n",
    "        'astar' : PriorityQueue\n",
    "    }\n",
    "    \n",
    "    total_moves = 0\n",
    "    queue = search[algorithm.lower()]()\n",
    "    starting_moves = sorted(board_indices, reverse=algorithm!='dfs')\n",
    "    \n",
    "    for move in starting_moves:\n",
    "        data = State(board[move[0]][move[1]], move, [move], get_score(board[move[0]][move[1]]), 0, 0)\n",
    "        if algorithm == \"astar\": queue.put((-hn(data.word), data))\n",
    "        else: queue.put(data)\n",
    "        \n",
    "    curr_state = queue.get()\n",
    "    if algorithm == \"astar\":\n",
    "        string, path, loc = curr_state[1].word, curr_state[1].path, curr_state[1].loc\n",
    "    \n",
    "    while total_moves <= max_moves:\n",
    "        valid_moves = [pos for pos in {tuple(map(add, loc, offset)) for offset in offsets} if pos in board_indices and pos not in path]\n",
    "        queue_sizes.append(len(queue.queue)+1)\n",
    "#         print(queue.queue)\n",
    "#         print()\n",
    "        for move in sorted(valid_moves, reverse=algorithm!='dfs'): \n",
    "            new_path = deepcopy(path)\n",
    "            new_path.append(move)\n",
    "            new_string = string+board[move[0]][move[1]]\n",
    "            \n",
    "            data = State(new_string, move, new_path, get_score(new_string), hn(new_string), len(new_string)-1) \n",
    "            if algorithm == \"astar\": queue.put((-(hn(data.word)+data.score), data))\n",
    "            else: queue.put(data)\n",
    "        \n",
    "        if string in dictionary:words_found.add(string)\n",
    "        curr_state = queue.get()     \n",
    "        if algorithm == \"astar\":\n",
    "            string, path, loc = curr_state[1].word, curr_state[1].path, curr_state[1].loc\n",
    "        \n",
    "        if string in dictionary:words_found.add(string)\n",
    "        total_moves += 1\n",
    "    return total_moves\n",
    "    "
   ]
  },
  {
   "cell_type": "code",
   "execution_count": 416,
   "metadata": {
    "collapsed": false,
    "deletable": true,
    "editable": true
   },
   "outputs": [
    {
     "name": "stdout",
     "output_type": "stream",
     "text": [
      "Y Q I\n",
      "T B G\n",
      "E R O\n",
      "Found 26 words in 31.416810035705566 seconds...\n",
      "['BE', 'BET', 'BI', 'BIG', 'BO', 'BOG', 'BORE', 'BRO', 'BY', 'ER', 'ERG', 'ERGO', 'ET', 'GIB', 'GO', 'GOB', 'GOR', 'OBE', 'OR', 'ORB', 'ORT', 'QI', 'RE', 'REB', 'RET', 'ROB']\n",
      "Words with 2 letters: ['BE', 'GO', 'QI', 'BY', 'BO', 'RE', 'OR', 'BI', 'ER', 'ET']\n",
      "Words with 3 letters: ['BET', 'OBE', 'ERG', 'GOR', 'RET', 'GOB', 'BRO', 'ORB', 'ORT', 'REB', 'BIG', 'GIB', 'ROB', 'BOG']\n",
      "Words with 4 letters: ['BORE', 'ERGO']\n"
     ]
    }
   ],
   "source": [
    "time_0 = time.time()\n",
    "find_words(board, word_set, 'astar', word_count)\n",
    "time_1 = time.time()\n",
    "for row in board: print(' '.join(row))\n",
    "print('Found {} words in {} seconds...\\n{}'.format(len(words_found),time_1-time_0, sorted(words_found)))\n",
    "\n",
    "for key, group in itertools.groupby(sorted(words_found, key=len), lambda x: len(x)): \n",
    "    print('Words with {} letters: {}'.format(key, list(group)))\n"
   ]
  },
  {
   "cell_type": "code",
   "execution_count": 410,
   "metadata": {
    "collapsed": false,
    "deletable": true,
    "editable": true
   },
   "outputs": [
    {
     "data": {
      "text/plain": [
       "109.26732673267327"
      ]
     },
     "execution_count": 410,
     "metadata": {},
     "output_type": "execute_result"
    }
   ],
   "source": [
    "sum(queue_sizes)/len(queue_sizes)"
   ]
  },
  {
   "cell_type": "code",
   "execution_count": 211,
   "metadata": {
    "collapsed": false,
    "deletable": true,
    "editable": true
   },
   "outputs": [
    {
     "data": {
      "text/plain": [
       "8"
      ]
     },
     "execution_count": 211,
     "metadata": {},
     "output_type": "execute_result"
    }
   ],
   "source": [
    "max(queue_sizes)"
   ]
  },
  {
   "cell_type": "code",
   "execution_count": null,
   "metadata": {
    "collapsed": false,
    "deletable": true,
    "editable": true
   },
   "outputs": [],
   "source": []
  },
  {
   "cell_type": "code",
   "execution_count": null,
   "metadata": {
    "collapsed": true,
    "deletable": true,
    "editable": true
   },
   "outputs": [],
   "source": []
  }
 ],
 "metadata": {
  "anaconda-cloud": {},
  "kernelspec": {
   "display_name": "Python 3",
   "language": "python",
   "name": "python3"
  },
  "language_info": {
   "codemirror_mode": {
    "name": "ipython",
    "version": 3
   },
   "file_extension": ".py",
   "mimetype": "text/x-python",
   "name": "python",
   "nbconvert_exporter": "python",
   "pygments_lexer": "ipython3",
   "version": "3.5.3"
  },
  "widgets": {
   "state": {},
   "version": "1.1.2"
  }
 },
 "nbformat": 4,
 "nbformat_minor": 1
}
